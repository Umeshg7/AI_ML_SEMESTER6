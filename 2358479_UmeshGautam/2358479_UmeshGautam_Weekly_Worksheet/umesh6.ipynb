{
  "nbformat": 4,
  "nbformat_minor": 0,
  "metadata": {
    "colab": {
      "provenance": []
    },
    "kernelspec": {
      "name": "python3",
      "display_name": "Python 3"
    },
    "language_info": {
      "name": "python"
    }
  },
  "cells": [
    {
      "cell_type": "code",
      "execution_count": 1,
      "metadata": {
        "id": "_Wko11qaHwLu"
      },
      "outputs": [],
      "source": [
        "import tensorflow as tf\n",
        "from tensorflow import keras\n",
        "from tensorflow.keras import layers\n",
        "import numpy as np\n",
        "from PIL import Image\n",
        "import os\n",
        "import glob\n",
        "import numpy as np\n",
        "import matplotlib.pyplot as plt\n",
        "import random"
      ]
    },
    {
      "cell_type": "code",
      "source": [
        "\n",
        "!pip install gdown\n",
        "\n",
        "!gdown 12dBHB_f5jCOcalsV8Cp38u54tgkwcVT8\n",
        "\n",
        "!unzip \"FruitinAmazon.zip\""
      ],
      "metadata": {
        "colab": {
          "base_uri": "https://localhost:8080/"
        },
        "id": "iiDr1NKUIzN8",
        "outputId": "ff8e40d4-596c-4302-c461-01fea6db5dfb"
      },
      "execution_count": 6,
      "outputs": [
        {
          "output_type": "stream",
          "name": "stdout",
          "text": [
            "Requirement already satisfied: gdown in /usr/local/lib/python3.11/dist-packages (5.2.0)\n",
            "Requirement already satisfied: beautifulsoup4 in /usr/local/lib/python3.11/dist-packages (from gdown) (4.13.3)\n",
            "Requirement already satisfied: filelock in /usr/local/lib/python3.11/dist-packages (from gdown) (3.18.0)\n",
            "Requirement already satisfied: requests[socks] in /usr/local/lib/python3.11/dist-packages (from gdown) (2.32.3)\n",
            "Requirement already satisfied: tqdm in /usr/local/lib/python3.11/dist-packages (from gdown) (4.67.1)\n",
            "Requirement already satisfied: soupsieve>1.2 in /usr/local/lib/python3.11/dist-packages (from beautifulsoup4->gdown) (2.6)\n",
            "Requirement already satisfied: typing-extensions>=4.0.0 in /usr/local/lib/python3.11/dist-packages (from beautifulsoup4->gdown) (4.13.0)\n",
            "Requirement already satisfied: charset-normalizer<4,>=2 in /usr/local/lib/python3.11/dist-packages (from requests[socks]->gdown) (3.4.1)\n",
            "Requirement already satisfied: idna<4,>=2.5 in /usr/local/lib/python3.11/dist-packages (from requests[socks]->gdown) (3.10)\n",
            "Requirement already satisfied: urllib3<3,>=1.21.1 in /usr/local/lib/python3.11/dist-packages (from requests[socks]->gdown) (2.3.0)\n",
            "Requirement already satisfied: certifi>=2017.4.17 in /usr/local/lib/python3.11/dist-packages (from requests[socks]->gdown) (2025.1.31)\n",
            "Requirement already satisfied: PySocks!=1.5.7,>=1.5.6 in /usr/local/lib/python3.11/dist-packages (from requests[socks]->gdown) (1.7.1)\n",
            "Downloading...\n",
            "From: https://drive.google.com/uc?id=12dBHB_f5jCOcalsV8Cp38u54tgkwcVT8\n",
            "To: /content/FruitinAmazon.zip\n",
            "100% 1.24M/1.24M [00:00<00:00, 117MB/s]\n",
            "Archive:  FruitinAmazon.zip\n",
            "  inflating: FruitinAmazon/test/cupuacu/download (5).jpeg  \n",
            "  inflating: FruitinAmazon/test/acai/images (2).jpeg  \n",
            "  inflating: FruitinAmazon/test/cupuacu/download (3).jpeg  \n",
            "  inflating: FruitinAmazon/test/acai/images (16).jpeg  \n",
            "  inflating: FruitinAmazon/test/pupunha/download (2).jpeg  \n",
            "  inflating: FruitinAmazon/train/pupunha/images (1).jpeg  \n",
            "  inflating: FruitinAmazon/test/cupuacu/download (2).jpeg  \n",
            "  inflating: FruitinAmazon/test/pupunha/download (1).jpeg  \n",
            "  inflating: FruitinAmazon/train/acai/images (3).jpeg  \n",
            "  inflating: FruitinAmazon/train/acai/images (4).jpeg  \n",
            "  inflating: FruitinAmazon/test/graviola/download (1).jpeg  \n",
            "  inflating: FruitinAmazon/test/pupunha/download (11).jpeg  \n",
            "  inflating: FruitinAmazon/test/pupunha/download (4).jpeg  \n",
            "  inflating: FruitinAmazon/train/acai/images (11).jpeg  \n",
            "  inflating: FruitinAmazon/test/tucuma/download (1).jpeg  \n",
            "  inflating: FruitinAmazon/test/acai/images.jpeg  \n",
            "  inflating: FruitinAmazon/train/acai/images (10).jpeg  \n",
            "  inflating: FruitinAmazon/test/cupuacu/images (3).jpeg  \n",
            "  inflating: FruitinAmazon/train/acai/images (13).jpeg  \n",
            "  inflating: FruitinAmazon/test/tucuma/download (5).jpeg  \n",
            "  inflating: FruitinAmazon/test/graviola/images (4).jpeg  \n",
            "  inflating: FruitinAmazon/train/acai/images (7).jpeg  \n",
            "  inflating: FruitinAmazon/train/pupunha/images (6).jpeg  \n",
            "  inflating: FruitinAmazon/train/acai/images (1).jpeg  \n",
            "  inflating: FruitinAmazon/train/pupunha/images.jpeg  \n",
            "  inflating: FruitinAmazon/train/acai/images (15).jpeg  \n",
            "  inflating: FruitinAmazon/train/pupunha/images (4).jpeg  \n",
            "  inflating: FruitinAmazon/test/cupuacu/download (4).jpeg  \n",
            "  inflating: FruitinAmazon/train/pupunha/images (5).jpeg  \n",
            "  inflating: FruitinAmazon/test/acai/download (9).jpeg  \n",
            "  inflating: FruitinAmazon/train/acai/images (5).jpeg  \n",
            "  inflating: FruitinAmazon/train/pupunha/images (8).jpeg  \n",
            "  inflating: FruitinAmazon/train/acai/images (8).jpeg  \n",
            "  inflating: FruitinAmazon/test/graviola/download (3).jpeg  \n",
            "  inflating: FruitinAmazon/train/pupunha/images (3).jpeg  \n",
            "  inflating: FruitinAmazon/train/acai/images (9).jpeg  \n",
            "  inflating: FruitinAmazon/test/graviola/download (2).jpeg  \n",
            "  inflating: FruitinAmazon/train/acai/images (14).jpeg  \n",
            "  inflating: FruitinAmazon/test/guarana/download (2).jpeg  \n",
            "  inflating: FruitinAmazon/train/pupunha/download.jpeg  \n",
            "  inflating: FruitinAmazon/train/pupunha/images (10).jpeg  \n",
            "  inflating: FruitinAmazon/train/acai/images (18).jpeg  \n",
            "  inflating: FruitinAmazon/train/guarana/download (7).jpeg  \n",
            "  inflating: FruitinAmazon/test/tucuma/download (8).jpeg  \n",
            "  inflating: FruitinAmazon/train/pupunha/images (9).jpeg  \n",
            "  inflating: FruitinAmazon/train/pupunha/images (7).jpeg  \n",
            "  inflating: FruitinAmazon/train/guarana/images (8).jpeg  \n",
            "  inflating: FruitinAmazon/train/pupunha/images (13).jpeg  \n",
            "  inflating: FruitinAmazon/test/tucuma/download (4).jpeg  \n",
            "  inflating: FruitinAmazon/train/guarana/download (8).jpeg  \n",
            "  inflating: FruitinAmazon/test/guarana/download (4).jpeg  \n",
            "  inflating: FruitinAmazon/test/pupunha/download (3).jpeg  \n",
            "  inflating: FruitinAmazon/test/guarana/download (3).jpeg  \n",
            "  inflating: FruitinAmazon/train/graviola/images (6).jpeg  \n",
            "  inflating: FruitinAmazon/train/guarana/images (3).jpeg  \n",
            "  inflating: FruitinAmazon/train/graviola/download (7).jpeg  \n",
            "  inflating: FruitinAmazon/train/guarana/images.jpeg  \n",
            "  inflating: FruitinAmazon/train/graviola/images (7).jpeg  \n",
            "  inflating: FruitinAmazon/test/tucuma/download (2).jpeg  \n",
            "  inflating: FruitinAmazon/train/guarana/images (1).jpeg  \n",
            "  inflating: FruitinAmazon/train/guarana/download (6).jpeg  \n",
            "  inflating: FruitinAmazon/train/pupunha/images (2).jpeg  \n",
            "  inflating: FruitinAmazon/test/guarana/download (5).jpeg  \n",
            "  inflating: FruitinAmazon/train/graviola/download (6).jpeg  \n",
            "  inflating: FruitinAmazon/train/graviola/images (3).jpeg  \n",
            "  inflating: FruitinAmazon/train/graviola/images (10).jpeg  \n",
            "  inflating: FruitinAmazon/train/pupunha/images (12).jpeg  \n",
            "  inflating: FruitinAmazon/train/graviola/images (8).jpeg  \n",
            "  inflating: FruitinAmazon/train/guarana/download (10).jpeg  \n",
            "  inflating: FruitinAmazon/train/tucuma/images (2).jpeg  \n",
            "  inflating: FruitinAmazon/train/tucuma/images (1).jpeg  \n",
            "  inflating: FruitinAmazon/train/guarana/images (6).jpeg  \n",
            "  inflating: FruitinAmazon/train/guarana/images (5).jpeg  \n",
            "  inflating: FruitinAmazon/train/guarana/download (1).jpeg  \n",
            "  inflating: FruitinAmazon/train/guarana/images (2).jpeg  \n",
            "  inflating: FruitinAmazon/train/tucuma/download (9).jpeg  \n",
            "  inflating: FruitinAmazon/train/graviola/download (8).jpeg  \n",
            "  inflating: FruitinAmazon/train/pupunha/images (11).jpeg  \n",
            "  inflating: FruitinAmazon/train/acai/images (6).jpeg  \n",
            "  inflating: FruitinAmazon/test/guarana/images (4).jpeg  \n",
            "  inflating: FruitinAmazon/train/graviola/download (5).jpeg  \n",
            "  inflating: FruitinAmazon/train/tucuma/images.jpeg  \n",
            "  inflating: FruitinAmazon/train/tucuma/images (9).jpeg  \n",
            "  inflating: FruitinAmazon/train/graviola/download.jpeg  \n",
            "  inflating: FruitinAmazon/train/graviola/images (5).jpeg  \n",
            "  inflating: FruitinAmazon/train/graviola/images (2).jpeg  \n",
            "  inflating: FruitinAmazon/train/guarana/download (9).jpeg  \n",
            "  inflating: FruitinAmazon/train/acai/images (12).jpeg  \n",
            "  inflating: FruitinAmazon/train/tucuma/images (3).jpeg  \n",
            "  inflating: FruitinAmazon/train/tucuma/images (7).jpeg  \n",
            "  inflating: FruitinAmazon/train/graviola/images.jpeg  \n",
            "  inflating: FruitinAmazon/train/tucuma/images (5).jpeg  \n",
            "  inflating: FruitinAmazon/train/tucuma/download (3).jpeg  \n",
            "  inflating: FruitinAmazon/train/cupuacu/images (4).jpeg  \n",
            "  inflating: FruitinAmazon/train/cupuacu/images (7).jpeg  \n",
            "  inflating: FruitinAmazon/train/cupuacu/download.jpeg  \n",
            "  inflating: FruitinAmazon/test/acai/images (17).jpeg  \n",
            "  inflating: FruitinAmazon/train/graviola/images (1).jpeg  \n",
            "  inflating: FruitinAmazon/train/cupuacu/images (13).jpeg  \n",
            "  inflating: FruitinAmazon/train/cupuacu/images (12).jpeg  \n",
            "  inflating: FruitinAmazon/train/tucuma/download (6).jpeg  \n",
            "  inflating: FruitinAmazon/train/cupuacu/images (5).jpeg  \n",
            "  inflating: FruitinAmazon/train/guarana/images (7).jpeg  \n",
            "  inflating: FruitinAmazon/train/tucuma/images (6).jpeg  \n",
            "  inflating: FruitinAmazon/train/cupuacu/images (6).jpeg  \n",
            "  inflating: FruitinAmazon/train/tucuma/images (8).jpeg  \n",
            "  inflating: FruitinAmazon/train/cupuacu/download (1).jpeg  \n",
            "  inflating: FruitinAmazon/test/graviola/download (4).jpeg  \n",
            "  inflating: FruitinAmazon/train/tucuma/images (4).jpeg  \n",
            "  inflating: FruitinAmazon/train/cupuacu/images (8).jpeg  \n",
            "  inflating: FruitinAmazon/train/cupuacu/images (1).jpeg  \n",
            "  inflating: FruitinAmazon/train/cupuacu/images (10).jpeg  \n",
            "  inflating: FruitinAmazon/train/tucuma/download (7).jpeg  \n",
            "  inflating: FruitinAmazon/train/guarana/download.jpeg  \n",
            "  inflating: FruitinAmazon/train/cupuacu/images (2).jpeg  \n",
            "  inflating: FruitinAmazon/train/graviola/images (9).jpeg  \n",
            "  inflating: FruitinAmazon/train/cupuacu/images (11).jpeg  \n",
            "  inflating: FruitinAmazon/train/cupuacu/images (9).jpeg  \n",
            "  inflating: FruitinAmazon/train/tucuma/download.jpeg  \n",
            "  inflating: FruitinAmazon/train/cupuacu/images.jpeg  \n"
          ]
        }
      ]
    },
    {
      "cell_type": "code",
      "source": [
        "\n",
        "train_path = \"FruitinAmazon/train/\"\n",
        "test_path = \"FruitinAmazon/test/\""
      ],
      "metadata": {
        "id": "EL65VGufJH_-"
      },
      "execution_count": 7,
      "outputs": []
    },
    {
      "cell_type": "code",
      "source": [
        "os.listdir(train_path)\n"
      ],
      "metadata": {
        "colab": {
          "base_uri": "https://localhost:8080/"
        },
        "id": "4sYqSb2qJM3T",
        "outputId": "1a6030b1-200d-4212-dd4d-0cf395295341"
      },
      "execution_count": 8,
      "outputs": [
        {
          "output_type": "execute_result",
          "data": {
            "text/plain": [
              "['acai', 'guarana', 'tucuma', 'pupunha', 'cupuacu', 'graviola']"
            ]
          },
          "metadata": {},
          "execution_count": 8
        }
      ]
    },
    {
      "cell_type": "code",
      "source": [
        "def visualise(train_path):\n",
        "\n",
        "  class_dirs = []\n",
        "  for folder in os.listdir(train_path):\n",
        "    class_dirs.append(folder)\n",
        "\n",
        "  images = []\n",
        "  labels = []\n",
        "\n",
        "  for class_dir in class_dirs:\n",
        "    class_path = os.path.join(train_path, class_dir)\n",
        "\n",
        "    image_files = []\n",
        "    for image in os.listdir(class_path):\n",
        "      image_files.append(image)\n",
        "\n",
        "    random_image_file = random.choice(image_files)\n",
        "    image_path = os.path.join(class_path, random_image_file)\n",
        "\n",
        "    images.append(plt.imread(image_path))\n",
        "    labels.append(class_dir)\n",
        "\n",
        "  fig, axes = plt.subplots(2, len(class_dirs) // 2, figsize = (12, 6))\n",
        "\n",
        "  for i, (image, label) in enumerate(zip(images, labels)):\n",
        "    row = i // (len(class_dirs) // 2)\n",
        "    col = i % (len(class_dirs) // 2)\n",
        "\n",
        "    axes[row, col].imshow(image)\n",
        "    axes[row, col].set_title(label)\n",
        "    axes[row, col].axis('off')\n",
        "\n",
        "  plt.show()"
      ],
      "metadata": {
        "id": "_3VFw2UxJO-Y"
      },
      "execution_count": 10,
      "outputs": []
    },
    {
      "cell_type": "code",
      "source": [
        "def check_for_corrupted(dir):\n",
        "  sub_dir = []\n",
        "  for folder in os.listdir(dir):\n",
        "    sub_dir.append(folder)\n",
        "\n",
        "  for dir in sub_dir:\n",
        "    class_path = os.path.join(train_path, dir)\n",
        "\n",
        "    image_files = []\n",
        "    for image in os.listdir(class_path):\n",
        "      image_files.append(image)\n",
        "\n",
        "      for image in image_files:\n",
        "        image = os.path.join(class_path, image)\n",
        "\n",
        "        try:\n",
        "          with Image.open(image) as img:\n",
        "            img.verify()\n",
        "        except Exception as e:\n",
        "          print(f\"Corrupted image found {image}\")\n",
        "  print(\"No corrupted image found\")\n",
        "\n",
        "check_for_corrupted(train_path)"
      ],
      "metadata": {
        "colab": {
          "base_uri": "https://localhost:8080/"
        },
        "id": "CoE6rSnIJUu1",
        "outputId": "7156b01d-61f7-4cdc-cc33-04090247086e"
      },
      "execution_count": 11,
      "outputs": [
        {
          "output_type": "stream",
          "name": "stdout",
          "text": [
            "No corrupted image found\n"
          ]
        }
      ]
    },
    {
      "cell_type": "code",
      "source": [
        "img_height = 128\n",
        "img_width = 128\n",
        "batch_size = 32\n",
        "validation_split = 0.2\n",
        "\n",
        "rescale = tf.keras.layers.Rescaling(1./255)\n",
        "\n",
        "train_ds = tf.keras.utils.image_dataset_from_directory(\n",
        "    train_path,\n",
        "    labels='inferred',\n",
        "    label_mode='int',\n",
        "    image_size=(img_height, img_width),\n",
        "    interpolation='nearest',\n",
        "    batch_size=batch_size,\n",
        "    shuffle=True,\n",
        "    validation_split=validation_split,\n",
        "    subset='training',\n",
        "    seed=123\n",
        ")\n",
        "\n",
        "train_ds = train_ds.map(lambda x, y: (rescale(x), y))\n",
        "\n",
        "val_ds = tf.keras.utils.image_dataset_from_directory(\n",
        "    test_path,\n",
        "    labels='inferred',\n",
        "    label_mode='int',\n",
        "    image_size=(img_height, img_width),\n",
        "    interpolation='nearest',\n",
        "    batch_size=batch_size,\n",
        "    shuffle=False,\n",
        "    seed=123\n",
        ")\n",
        "\n",
        "val_ds = val_ds.map(lambda x, y: (rescale(x), y))\n",
        "\n",
        "test_ds = tf.keras.utils.image_dataset_from_directory(\n",
        "    test_path,\n",
        "    labels='inferred',\n",
        "    label_mode='int',\n",
        "    image_size=(img_height, img_width),\n",
        "    interpolation='nearest',\n",
        "    batch_size=batch_size,\n",
        "    shuffle=False,\n",
        "    seed=123\n",
        ")\n",
        "\n",
        "test_ds = test_ds.map(lambda x, y: (rescale(x), y))"
      ],
      "metadata": {
        "colab": {
          "base_uri": "https://localhost:8080/"
        },
        "id": "eKgglgLKJYcG",
        "outputId": "69baf1ac-251b-4926-bdd7-04ab339ba737"
      },
      "execution_count": 12,
      "outputs": [
        {
          "output_type": "stream",
          "name": "stdout",
          "text": [
            "Found 90 files belonging to 6 classes.\n",
            "Using 72 files for training.\n",
            "Found 30 files belonging to 6 classes.\n",
            "Found 30 files belonging to 6 classes.\n"
          ]
        }
      ]
    },
    {
      "cell_type": "markdown",
      "source": [
        "Task 3 - Implement a CNN with Convolutional Architecture:"
      ],
      "metadata": {
        "id": "724ETy3zJhij"
      }
    },
    {
      "cell_type": "code",
      "source": [
        "model = keras.Sequential([\n",
        "    layers.Conv2D(32, (3, 3), padding='same', strides=1, activation='relu', input_shape=(128, 128, 3)),\n",
        "    layers.MaxPooling2D((2, 2), strides=2),\n",
        "    layers.Conv2D(32, (3, 3), padding='same', strides=1, activation='relu'),\n",
        "    layers.MaxPooling2D((2, 2), strides=2),\n",
        "    layers.Flatten(),\n",
        "    layers.Dense(64, activation='relu'),\n",
        "    layers.Dense(128, activation='relu'),\n",
        "    layers.Dense(6, activation=\"softmax\")\n",
        "])"
      ],
      "metadata": {
        "colab": {
          "base_uri": "https://localhost:8080/"
        },
        "id": "_EbJiupRJctz",
        "outputId": "bfc26b06-ef9b-45b7-f088-f76a52a24585"
      },
      "execution_count": 13,
      "outputs": [
        {
          "output_type": "stream",
          "name": "stderr",
          "text": [
            "/usr/local/lib/python3.11/dist-packages/keras/src/layers/convolutional/base_conv.py:107: UserWarning: Do not pass an `input_shape`/`input_dim` argument to a layer. When using Sequential models, prefer using an `Input(shape)` object as the first layer in the model instead.\n",
            "  super().__init__(activity_regularizer=activity_regularizer, **kwargs)\n"
          ]
        }
      ]
    },
    {
      "cell_type": "code",
      "source": [
        "model.summary()\n"
      ],
      "metadata": {
        "colab": {
          "base_uri": "https://localhost:8080/",
          "height": 408
        },
        "id": "0YptXJLOJj8a",
        "outputId": "59860556-63c6-4c4e-d7b5-086c227a2f1f"
      },
      "execution_count": 14,
      "outputs": [
        {
          "output_type": "display_data",
          "data": {
            "text/plain": [
              "\u001b[1mModel: \"sequential\"\u001b[0m\n"
            ],
            "text/html": [
              "<pre style=\"white-space:pre;overflow-x:auto;line-height:normal;font-family:Menlo,'DejaVu Sans Mono',consolas,'Courier New',monospace\"><span style=\"font-weight: bold\">Model: \"sequential\"</span>\n",
              "</pre>\n"
            ]
          },
          "metadata": {}
        },
        {
          "output_type": "display_data",
          "data": {
            "text/plain": [
              "┏━━━━━━━━━━━━━━━━━━━━━━━━━━━━━━━━━━━━━━┳━━━━━━━━━━━━━━━━━━━━━━━━━━━━━┳━━━━━━━━━━━━━━━━━┓\n",
              "┃\u001b[1m \u001b[0m\u001b[1mLayer (type)                        \u001b[0m\u001b[1m \u001b[0m┃\u001b[1m \u001b[0m\u001b[1mOutput Shape               \u001b[0m\u001b[1m \u001b[0m┃\u001b[1m \u001b[0m\u001b[1m        Param #\u001b[0m\u001b[1m \u001b[0m┃\n",
              "┡━━━━━━━━━━━━━━━━━━━━━━━━━━━━━━━━━━━━━━╇━━━━━━━━━━━━━━━━━━━━━━━━━━━━━╇━━━━━━━━━━━━━━━━━┩\n",
              "│ conv2d (\u001b[38;5;33mConv2D\u001b[0m)                      │ (\u001b[38;5;45mNone\u001b[0m, \u001b[38;5;34m128\u001b[0m, \u001b[38;5;34m128\u001b[0m, \u001b[38;5;34m32\u001b[0m)        │             \u001b[38;5;34m896\u001b[0m │\n",
              "├──────────────────────────────────────┼─────────────────────────────┼─────────────────┤\n",
              "│ max_pooling2d (\u001b[38;5;33mMaxPooling2D\u001b[0m)         │ (\u001b[38;5;45mNone\u001b[0m, \u001b[38;5;34m64\u001b[0m, \u001b[38;5;34m64\u001b[0m, \u001b[38;5;34m32\u001b[0m)          │               \u001b[38;5;34m0\u001b[0m │\n",
              "├──────────────────────────────────────┼─────────────────────────────┼─────────────────┤\n",
              "│ conv2d_1 (\u001b[38;5;33mConv2D\u001b[0m)                    │ (\u001b[38;5;45mNone\u001b[0m, \u001b[38;5;34m64\u001b[0m, \u001b[38;5;34m64\u001b[0m, \u001b[38;5;34m32\u001b[0m)          │           \u001b[38;5;34m9,248\u001b[0m │\n",
              "├──────────────────────────────────────┼─────────────────────────────┼─────────────────┤\n",
              "│ max_pooling2d_1 (\u001b[38;5;33mMaxPooling2D\u001b[0m)       │ (\u001b[38;5;45mNone\u001b[0m, \u001b[38;5;34m32\u001b[0m, \u001b[38;5;34m32\u001b[0m, \u001b[38;5;34m32\u001b[0m)          │               \u001b[38;5;34m0\u001b[0m │\n",
              "├──────────────────────────────────────┼─────────────────────────────┼─────────────────┤\n",
              "│ flatten (\u001b[38;5;33mFlatten\u001b[0m)                    │ (\u001b[38;5;45mNone\u001b[0m, \u001b[38;5;34m32768\u001b[0m)               │               \u001b[38;5;34m0\u001b[0m │\n",
              "├──────────────────────────────────────┼─────────────────────────────┼─────────────────┤\n",
              "│ dense (\u001b[38;5;33mDense\u001b[0m)                        │ (\u001b[38;5;45mNone\u001b[0m, \u001b[38;5;34m64\u001b[0m)                  │       \u001b[38;5;34m2,097,216\u001b[0m │\n",
              "├──────────────────────────────────────┼─────────────────────────────┼─────────────────┤\n",
              "│ dense_1 (\u001b[38;5;33mDense\u001b[0m)                      │ (\u001b[38;5;45mNone\u001b[0m, \u001b[38;5;34m128\u001b[0m)                 │           \u001b[38;5;34m8,320\u001b[0m │\n",
              "├──────────────────────────────────────┼─────────────────────────────┼─────────────────┤\n",
              "│ dense_2 (\u001b[38;5;33mDense\u001b[0m)                      │ (\u001b[38;5;45mNone\u001b[0m, \u001b[38;5;34m6\u001b[0m)                   │             \u001b[38;5;34m774\u001b[0m │\n",
              "└──────────────────────────────────────┴─────────────────────────────┴─────────────────┘\n"
            ],
            "text/html": [
              "<pre style=\"white-space:pre;overflow-x:auto;line-height:normal;font-family:Menlo,'DejaVu Sans Mono',consolas,'Courier New',monospace\">┏━━━━━━━━━━━━━━━━━━━━━━━━━━━━━━━━━━━━━━┳━━━━━━━━━━━━━━━━━━━━━━━━━━━━━┳━━━━━━━━━━━━━━━━━┓\n",
              "┃<span style=\"font-weight: bold\"> Layer (type)                         </span>┃<span style=\"font-weight: bold\"> Output Shape                </span>┃<span style=\"font-weight: bold\">         Param # </span>┃\n",
              "┡━━━━━━━━━━━━━━━━━━━━━━━━━━━━━━━━━━━━━━╇━━━━━━━━━━━━━━━━━━━━━━━━━━━━━╇━━━━━━━━━━━━━━━━━┩\n",
              "│ conv2d (<span style=\"color: #0087ff; text-decoration-color: #0087ff\">Conv2D</span>)                      │ (<span style=\"color: #00d7ff; text-decoration-color: #00d7ff\">None</span>, <span style=\"color: #00af00; text-decoration-color: #00af00\">128</span>, <span style=\"color: #00af00; text-decoration-color: #00af00\">128</span>, <span style=\"color: #00af00; text-decoration-color: #00af00\">32</span>)        │             <span style=\"color: #00af00; text-decoration-color: #00af00\">896</span> │\n",
              "├──────────────────────────────────────┼─────────────────────────────┼─────────────────┤\n",
              "│ max_pooling2d (<span style=\"color: #0087ff; text-decoration-color: #0087ff\">MaxPooling2D</span>)         │ (<span style=\"color: #00d7ff; text-decoration-color: #00d7ff\">None</span>, <span style=\"color: #00af00; text-decoration-color: #00af00\">64</span>, <span style=\"color: #00af00; text-decoration-color: #00af00\">64</span>, <span style=\"color: #00af00; text-decoration-color: #00af00\">32</span>)          │               <span style=\"color: #00af00; text-decoration-color: #00af00\">0</span> │\n",
              "├──────────────────────────────────────┼─────────────────────────────┼─────────────────┤\n",
              "│ conv2d_1 (<span style=\"color: #0087ff; text-decoration-color: #0087ff\">Conv2D</span>)                    │ (<span style=\"color: #00d7ff; text-decoration-color: #00d7ff\">None</span>, <span style=\"color: #00af00; text-decoration-color: #00af00\">64</span>, <span style=\"color: #00af00; text-decoration-color: #00af00\">64</span>, <span style=\"color: #00af00; text-decoration-color: #00af00\">32</span>)          │           <span style=\"color: #00af00; text-decoration-color: #00af00\">9,248</span> │\n",
              "├──────────────────────────────────────┼─────────────────────────────┼─────────────────┤\n",
              "│ max_pooling2d_1 (<span style=\"color: #0087ff; text-decoration-color: #0087ff\">MaxPooling2D</span>)       │ (<span style=\"color: #00d7ff; text-decoration-color: #00d7ff\">None</span>, <span style=\"color: #00af00; text-decoration-color: #00af00\">32</span>, <span style=\"color: #00af00; text-decoration-color: #00af00\">32</span>, <span style=\"color: #00af00; text-decoration-color: #00af00\">32</span>)          │               <span style=\"color: #00af00; text-decoration-color: #00af00\">0</span> │\n",
              "├──────────────────────────────────────┼─────────────────────────────┼─────────────────┤\n",
              "│ flatten (<span style=\"color: #0087ff; text-decoration-color: #0087ff\">Flatten</span>)                    │ (<span style=\"color: #00d7ff; text-decoration-color: #00d7ff\">None</span>, <span style=\"color: #00af00; text-decoration-color: #00af00\">32768</span>)               │               <span style=\"color: #00af00; text-decoration-color: #00af00\">0</span> │\n",
              "├──────────────────────────────────────┼─────────────────────────────┼─────────────────┤\n",
              "│ dense (<span style=\"color: #0087ff; text-decoration-color: #0087ff\">Dense</span>)                        │ (<span style=\"color: #00d7ff; text-decoration-color: #00d7ff\">None</span>, <span style=\"color: #00af00; text-decoration-color: #00af00\">64</span>)                  │       <span style=\"color: #00af00; text-decoration-color: #00af00\">2,097,216</span> │\n",
              "├──────────────────────────────────────┼─────────────────────────────┼─────────────────┤\n",
              "│ dense_1 (<span style=\"color: #0087ff; text-decoration-color: #0087ff\">Dense</span>)                      │ (<span style=\"color: #00d7ff; text-decoration-color: #00d7ff\">None</span>, <span style=\"color: #00af00; text-decoration-color: #00af00\">128</span>)                 │           <span style=\"color: #00af00; text-decoration-color: #00af00\">8,320</span> │\n",
              "├──────────────────────────────────────┼─────────────────────────────┼─────────────────┤\n",
              "│ dense_2 (<span style=\"color: #0087ff; text-decoration-color: #0087ff\">Dense</span>)                      │ (<span style=\"color: #00d7ff; text-decoration-color: #00d7ff\">None</span>, <span style=\"color: #00af00; text-decoration-color: #00af00\">6</span>)                   │             <span style=\"color: #00af00; text-decoration-color: #00af00\">774</span> │\n",
              "└──────────────────────────────────────┴─────────────────────────────┴─────────────────┘\n",
              "</pre>\n"
            ]
          },
          "metadata": {}
        },
        {
          "output_type": "display_data",
          "data": {
            "text/plain": [
              "\u001b[1m Total params: \u001b[0m\u001b[38;5;34m2,116,454\u001b[0m (8.07 MB)\n"
            ],
            "text/html": [
              "<pre style=\"white-space:pre;overflow-x:auto;line-height:normal;font-family:Menlo,'DejaVu Sans Mono',consolas,'Courier New',monospace\"><span style=\"font-weight: bold\"> Total params: </span><span style=\"color: #00af00; text-decoration-color: #00af00\">2,116,454</span> (8.07 MB)\n",
              "</pre>\n"
            ]
          },
          "metadata": {}
        },
        {
          "output_type": "display_data",
          "data": {
            "text/plain": [
              "\u001b[1m Trainable params: \u001b[0m\u001b[38;5;34m2,116,454\u001b[0m (8.07 MB)\n"
            ],
            "text/html": [
              "<pre style=\"white-space:pre;overflow-x:auto;line-height:normal;font-family:Menlo,'DejaVu Sans Mono',consolas,'Courier New',monospace\"><span style=\"font-weight: bold\"> Trainable params: </span><span style=\"color: #00af00; text-decoration-color: #00af00\">2,116,454</span> (8.07 MB)\n",
              "</pre>\n"
            ]
          },
          "metadata": {}
        },
        {
          "output_type": "display_data",
          "data": {
            "text/plain": [
              "\u001b[1m Non-trainable params: \u001b[0m\u001b[38;5;34m0\u001b[0m (0.00 B)\n"
            ],
            "text/html": [
              "<pre style=\"white-space:pre;overflow-x:auto;line-height:normal;font-family:Menlo,'DejaVu Sans Mono',consolas,'Courier New',monospace\"><span style=\"font-weight: bold\"> Non-trainable params: </span><span style=\"color: #00af00; text-decoration-color: #00af00\">0</span> (0.00 B)\n",
              "</pre>\n"
            ]
          },
          "metadata": {}
        }
      ]
    },
    {
      "cell_type": "code",
      "source": [
        "\n",
        "model.compile(\n",
        "    optimizer='adam',\n",
        "    loss='sparse_categorical_crossentropy',\n",
        "    metrics=['accuracy']\n",
        ")"
      ],
      "metadata": {
        "id": "1sorJQQIJmRA"
      },
      "execution_count": 15,
      "outputs": []
    },
    {
      "cell_type": "code",
      "source": [
        "\n",
        "from tensorflow.keras.callbacks import ModelCheckpoint, EarlyStopping\n",
        "\n",
        "callbacks = [\n",
        "    keras.callbacks.ModelCheckpoint(\"best_model.keras\"),\n",
        "    keras.callbacks.EarlyStopping(monitor=\"val_loss\", patience=4, restore_best_weights=True),\n",
        "]\n",
        "\n",
        "history = model.fit(\n",
        "    train_ds,\n",
        "    epochs=250,\n",
        "    batch_size=16,\n",
        "    validation_data=val_ds,\n",
        "    callbacks=callbacks\n",
        ")"
      ],
      "metadata": {
        "colab": {
          "base_uri": "https://localhost:8080/"
        },
        "id": "hKpWdyQ3JoxZ",
        "outputId": "b9723062-c0c4-40ed-b132-d1de00fedc03"
      },
      "execution_count": 16,
      "outputs": [
        {
          "output_type": "stream",
          "name": "stdout",
          "text": [
            "Epoch 1/250\n",
            "\u001b[1m3/3\u001b[0m \u001b[32m━━━━━━━━━━━━━━━━━━━━\u001b[0m\u001b[37m\u001b[0m \u001b[1m5s\u001b[0m 956ms/step - accuracy: 0.1250 - loss: 1.8861 - val_accuracy: 0.2333 - val_loss: 1.8394\n",
            "Epoch 2/250\n",
            "\u001b[1m3/3\u001b[0m \u001b[32m━━━━━━━━━━━━━━━━━━━━\u001b[0m\u001b[37m\u001b[0m \u001b[1m4s\u001b[0m 539ms/step - accuracy: 0.2669 - loss: 1.7872 - val_accuracy: 0.2667 - val_loss: 1.7706\n",
            "Epoch 3/250\n",
            "\u001b[1m3/3\u001b[0m \u001b[32m━━━━━━━━━━━━━━━━━━━━\u001b[0m\u001b[37m\u001b[0m \u001b[1m3s\u001b[0m 531ms/step - accuracy: 0.3819 - loss: 1.6622 - val_accuracy: 0.2333 - val_loss: 1.7525\n",
            "Epoch 4/250\n",
            "\u001b[1m3/3\u001b[0m \u001b[32m━━━━━━━━━━━━━━━━━━━━\u001b[0m\u001b[37m\u001b[0m \u001b[1m2s\u001b[0m 553ms/step - accuracy: 0.2235 - loss: 1.5631 - val_accuracy: 0.2333 - val_loss: 1.5848\n",
            "Epoch 5/250\n",
            "\u001b[1m3/3\u001b[0m \u001b[32m━━━━━━━━━━━━━━━━━━━━\u001b[0m\u001b[37m\u001b[0m \u001b[1m3s\u001b[0m 788ms/step - accuracy: 0.5191 - loss: 1.3540 - val_accuracy: 0.4667 - val_loss: 1.4567\n",
            "Epoch 6/250\n",
            "\u001b[1m3/3\u001b[0m \u001b[32m━━━━━━━━━━━━━━━━━━━━\u001b[0m\u001b[37m\u001b[0m \u001b[1m3s\u001b[0m 840ms/step - accuracy: 0.6102 - loss: 1.1871 - val_accuracy: 0.5667 - val_loss: 1.4097\n",
            "Epoch 7/250\n",
            "\u001b[1m3/3\u001b[0m \u001b[32m━━━━━━━━━━━━━━━━━━━━\u001b[0m\u001b[37m\u001b[0m \u001b[1m4s\u001b[0m 541ms/step - accuracy: 0.8030 - loss: 0.8832 - val_accuracy: 0.5667 - val_loss: 1.1837\n",
            "Epoch 8/250\n",
            "\u001b[1m3/3\u001b[0m \u001b[32m━━━━━━━━━━━━━━━━━━━━\u001b[0m\u001b[37m\u001b[0m \u001b[1m2s\u001b[0m 592ms/step - accuracy: 0.8611 - loss: 0.6593 - val_accuracy: 0.4000 - val_loss: 1.3406\n",
            "Epoch 9/250\n",
            "\u001b[1m3/3\u001b[0m \u001b[32m━━━━━━━━━━━━━━━━━━━━\u001b[0m\u001b[37m\u001b[0m \u001b[1m2s\u001b[0m 542ms/step - accuracy: 0.8798 - loss: 0.4628 - val_accuracy: 0.6333 - val_loss: 1.0492\n",
            "Epoch 10/250\n",
            "\u001b[1m3/3\u001b[0m \u001b[32m━━━━━━━━━━━━━━━━━━━━\u001b[0m\u001b[37m\u001b[0m \u001b[1m3s\u001b[0m 986ms/step - accuracy: 0.9410 - loss: 0.3193 - val_accuracy: 0.4667 - val_loss: 1.3323\n",
            "Epoch 11/250\n",
            "\u001b[1m3/3\u001b[0m \u001b[32m━━━━━━━━━━━━━━━━━━━━\u001b[0m\u001b[37m\u001b[0m \u001b[1m5s\u001b[0m 772ms/step - accuracy: 0.9232 - loss: 0.3009 - val_accuracy: 0.6000 - val_loss: 0.9708\n",
            "Epoch 12/250\n",
            "\u001b[1m3/3\u001b[0m \u001b[32m━━━━━━━━━━━━━━━━━━━━\u001b[0m\u001b[37m\u001b[0m \u001b[1m4s\u001b[0m 1s/step - accuracy: 1.0000 - loss: 0.1380 - val_accuracy: 0.6000 - val_loss: 1.3580\n",
            "Epoch 13/250\n",
            "\u001b[1m3/3\u001b[0m \u001b[32m━━━━━━━━━━━━━━━━━━━━\u001b[0m\u001b[37m\u001b[0m \u001b[1m4s\u001b[0m 1s/step - accuracy: 1.0000 - loss: 0.1361 - val_accuracy: 0.7000 - val_loss: 1.2905\n",
            "Epoch 14/250\n",
            "\u001b[1m3/3\u001b[0m \u001b[32m━━━━━━━━━━━━━━━━━━━━\u001b[0m\u001b[37m\u001b[0m \u001b[1m2s\u001b[0m 540ms/step - accuracy: 1.0000 - loss: 0.0490 - val_accuracy: 0.7000 - val_loss: 0.9754\n",
            "Epoch 15/250\n",
            "\u001b[1m3/3\u001b[0m \u001b[32m━━━━━━━━━━━━━━━━━━━━\u001b[0m\u001b[37m\u001b[0m \u001b[1m2s\u001b[0m 537ms/step - accuracy: 1.0000 - loss: 0.0414 - val_accuracy: 0.6333 - val_loss: 0.9223\n",
            "Epoch 16/250\n",
            "\u001b[1m3/3\u001b[0m \u001b[32m━━━━━━━━━━━━━━━━━━━━\u001b[0m\u001b[37m\u001b[0m \u001b[1m3s\u001b[0m 552ms/step - accuracy: 1.0000 - loss: 0.0310 - val_accuracy: 0.6000 - val_loss: 1.0078\n",
            "Epoch 17/250\n",
            "\u001b[1m3/3\u001b[0m \u001b[32m━━━━━━━━━━━━━━━━━━━━\u001b[0m\u001b[37m\u001b[0m \u001b[1m3s\u001b[0m 551ms/step - accuracy: 1.0000 - loss: 0.0155 - val_accuracy: 0.7333 - val_loss: 1.0071\n",
            "Epoch 18/250\n",
            "\u001b[1m3/3\u001b[0m \u001b[32m━━━━━━━━━━━━━━━━━━━━\u001b[0m\u001b[37m\u001b[0m \u001b[1m3s\u001b[0m 1s/step - accuracy: 1.0000 - loss: 0.0076 - val_accuracy: 0.7667 - val_loss: 1.1680\n",
            "Epoch 19/250\n",
            "\u001b[1m3/3\u001b[0m \u001b[32m━━━━━━━━━━━━━━━━━━━━\u001b[0m\u001b[37m\u001b[0m \u001b[1m4s\u001b[0m 549ms/step - accuracy: 1.0000 - loss: 0.0066 - val_accuracy: 0.7667 - val_loss: 1.1758\n"
          ]
        }
      ]
    },
    {
      "cell_type": "code",
      "source": [
        "import matplotlib.pyplot as plt\n",
        "\n",
        "train_loss = history.history['loss']\n",
        "val_loss = history.history['val_loss']\n",
        "\n",
        "train_acc = history.history['accuracy']\n",
        "val_acc = history.history['val_accuracy']\n",
        "\n",
        "plt.figure(figsize=(12, 6))\n",
        "plt.subplot(1, 2, 1)\n",
        "plt.plot(range(1, len(train_loss) + 1), train_loss, label='Training Loss', color='blue')\n",
        "plt.plot(range(1, len(val_loss) + 1), val_loss, label='Validation Loss', color='orange')\n",
        "plt.xlabel('Epochs')\n",
        "plt.ylabel('Loss')\n",
        "plt.title('Training and Validatation Loss')\n",
        "plt.legend()\n",
        "\n",
        "plt.subplot(1, 2, 2)\n",
        "plt.plot(range(1, len(train_acc) + 1), train_acc, label='Training Accuracy', color='blue')\n",
        "plt.plot(range(1, len(val_acc) + 1), val_acc, label='Validation Accuracy', color='orange')\n",
        "plt.xlabel('Epochs')\n",
        "plt.ylabel('Loss')\n",
        "plt.title('Training and Validatation Loss')\n",
        "plt.legend()\n",
        "\n",
        "plt.show()"
      ],
      "metadata": {
        "colab": {
          "base_uri": "https://localhost:8080/",
          "height": 564
        },
        "id": "x0gYBnh9JysP",
        "outputId": "9a1b5696-2469-440f-a353-7d175c800ed1"
      },
      "execution_count": 17,
      "outputs": [
        {
          "output_type": "display_data",
          "data": {
            "text/plain": [
              "<Figure size 1200x600 with 2 Axes>"
            ],
            "image/png": "[encoded data removed]"
          },
          "metadata": {}
        }
      ]
    },
    {
      "cell_type": "markdown",
      "source": [
        "Task 5: Evaluate the Model\n"
      ],
      "metadata": {
        "id": "u2R8ckj5KCkr"
      }
    },
    {
      "cell_type": "code",
      "source": [
        "\n",
        "test_loss, test_acc = model.evaluate(test_ds)\n",
        "print(f\"Test Accuracy: {test_acc:.4f}\")"
      ],
      "metadata": {
        "colab": {
          "base_uri": "https://localhost:8080/"
        },
        "id": "Cyyt0ZyBKBRK",
        "outputId": "ecfc4c72-84b7-4811-a879-75c2b725156e"
      },
      "execution_count": 18,
      "outputs": [
        {
          "output_type": "stream",
          "name": "stdout",
          "text": [
            "\u001b[1m1/1\u001b[0m \u001b[32m━━━━━━━━━━━━━━━━━━━━\u001b[0m\u001b[37m\u001b[0m \u001b[1m0s\u001b[0m 280ms/step - accuracy: 0.6333 - loss: 0.9223\n",
            "Test Accuracy: 0.6333\n"
          ]
        }
      ]
    },
    {
      "cell_type": "code",
      "source": [
        "model.save('bestest_model.h5')\n",
        "\n",
        "bestest_model = tf.keras.models.load_model('bestest_model.h5')\n",
        ""
      ],
      "metadata": {
        "colab": {
          "base_uri": "https://localhost:8080/"
        },
        "id": "2rNM3FJlKEWq",
        "outputId": "0d5eed50-e0c6-4163-e619-18a60f98e8b2"
      },
      "execution_count": 19,
      "outputs": [
        {
          "output_type": "stream",
          "name": "stderr",
          "text": [
            "WARNING:absl:You are saving your model as an HDF5 file via `model.save()` or `keras.saving.save_model(model)`. This file format is considered legacy. We recommend using instead the native Keras format, e.g. `model.save('my_model.keras')` or `keras.saving.save_model(model, 'my_model.keras')`. \n",
            "WARNING:absl:Compiled the loaded model, but the compiled metrics have yet to be built. `model.compile_metrics` will be empty until you train or evaluate the model.\n"
          ]
        }
      ]
    },
    {
      "cell_type": "markdown",
      "source": [
        "Task 7: Predictions and Classification Report\n"
      ],
      "metadata": {
        "id": "F8wl-YYvKJ5T"
      }
    },
    {
      "cell_type": "code",
      "source": [
        "import numpy as np\n",
        "from sklearn.metrics import classification_report\n",
        "\n",
        "y_pred_prob = bestest_model.predict(test_ds)\n",
        "y_pred = np.argmax(y_pred_prob, axis=1)\n",
        "\n",
        "y_true = []\n",
        "for images, labels in test_ds.unbatch():\n",
        "  y_true.append(labels.numpy())\n",
        "\n",
        "y_true = np.array(y_true)\n",
        "print(y_true)\n",
        "print(classification_report(y_true, y_pred))"
      ],
      "metadata": {
        "colab": {
          "base_uri": "https://localhost:8080/"
        },
        "id": "GMTWJ_MTKG3p",
        "outputId": "cfb4fdd0-e0c7-4b7d-9885-4d6a1bb3aa47"
      },
      "execution_count": 21,
      "outputs": [
        {
          "output_type": "stream",
          "name": "stdout",
          "text": [
            "\u001b[1m1/1\u001b[0m \u001b[32m━━━━━━━━━━━━━━━━━━━━\u001b[0m\u001b[37m\u001b[0m \u001b[1m0s\u001b[0m 325ms/step\n",
            "[0 0 0 0 0 1 1 1 1 1 2 2 2 2 2 3 3 3 3 3 4 4 4 4 4 5 5 5 5 5]\n",
            "              precision    recall  f1-score   support\n",
            "\n",
            "           0       1.00      0.60      0.75         5\n",
            "           1       0.40      0.40      0.40         5\n",
            "           2       0.62      1.00      0.77         5\n",
            "           3       0.50      1.00      0.67         5\n",
            "           4       1.00      0.40      0.57         5\n",
            "           5       1.00      0.40      0.57         5\n",
            "\n",
            "    accuracy                           0.63        30\n",
            "   macro avg       0.75      0.63      0.62        30\n",
            "weighted avg       0.75      0.63      0.62        30\n",
            "\n"
          ]
        }
      ]
    }
  ]
}